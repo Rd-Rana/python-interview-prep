{
  "metadata": {
    "kernelspec": {
      "name": "python",
      "display_name": "Python (Pyodide)",
      "language": "python"
    },
    "language_info": {
      "codemirror_mode": {
        "name": "python",
        "version": 3
      },
      "file_extension": ".py",
      "mimetype": "text/x-python",
      "name": "python",
      "nbconvert_exporter": "python",
      "pygments_lexer": "ipython3",
      "version": "3.8"
    }
  },
  "nbformat_minor": 5,
  "nbformat": 4,
  "cells": [
    {
      "id": "6e4561db-1c1f-45c4-8ce6-8050cfb431db",
      "cell_type": "code",
      "source": "class Number:\n    num = 4\n\nobj = Number()\nprint(obj.num)",
      "metadata": {
        "trusted": true
      },
      "outputs": [
        {
          "name": "stdout",
          "output_type": "stream",
          "text": "4\n"
        }
      ],
      "execution_count": 1
    },
    {
      "id": "e93ca102-1a08-4570-b426-80d58a2d2994",
      "cell_type": "code",
      "source": "class Circle:\n    def __init__(self, radius):\n        self.radius = radius\n\n    def __str__(self):\n        return f\"Circle({self.radius})\"\n\n    def giveInfo(self):\n        print(f\"This is the circle with radius {self.radius}.\")\n\ncircle = Circle(4)\nprint(circle.radius)",
      "metadata": {
        "trusted": true
      },
      "outputs": [
        {
          "name": "stdout",
          "output_type": "stream",
          "text": "4\n"
        }
      ],
      "execution_count": 11
    },
    {
      "id": "0f00039d-2142-4432-ae87-9449ed39464c",
      "cell_type": "code",
      "source": "print(circle)",
      "metadata": {
        "trusted": true
      },
      "outputs": [
        {
          "name": "stdout",
          "output_type": "stream",
          "text": "Circle(4)\n"
        }
      ],
      "execution_count": 10
    },
    {
      "id": "bd9af722-9bdf-4b5b-ad8e-9f051f1979de",
      "cell_type": "code",
      "source": "circle.giveInfo()",
      "metadata": {
        "trusted": true
      },
      "outputs": [
        {
          "name": "stdout",
          "output_type": "stream",
          "text": "This is the circle with radius 4.\n"
        }
      ],
      "execution_count": 12
    },
    {
      "id": "7a244eea-93ee-45ca-a1f3-f689231fe3c5",
      "cell_type": "code",
      "source": "class Person:\n    def __init__(person, name, age):\n        person.name = name\n        person.age = age\n\n    def __str__(rudra):\n        return f\"Person(name={rudra.name}, age={rudra.age})\"\n\n    def greet(self):\n        print(f\"Hello! My name is {self.name} and I'm {self.age} years old.\")",
      "metadata": {
        "trusted": true
      },
      "outputs": [],
      "execution_count": 14
    },
    {
      "id": "448ad9be-50eb-4f8e-bf0d-ac570ff54e2d",
      "cell_type": "code",
      "source": "p1 = Person(\"Rudra\", 22)\nprint(p1)\np1.greet()",
      "metadata": {
        "trusted": true
      },
      "outputs": [
        {
          "name": "stdout",
          "output_type": "stream",
          "text": "Person(name=Rudra, age=22)\nHello! My name is Rudra and I'm 22 years old.\n"
        }
      ],
      "execution_count": 15
    },
    {
      "id": "e01c592a-3d10-4750-b984-ec942f49aae7",
      "cell_type": "code",
      "source": "p1.age = 23\nprint(p1)",
      "metadata": {
        "trusted": true
      },
      "outputs": [
        {
          "name": "stdout",
          "output_type": "stream",
          "text": "Person(name=Rudra, age=23)\n"
        }
      ],
      "execution_count": 16
    },
    {
      "id": "f0e58a68-8782-46cc-a876-34c67c3ff9e3",
      "cell_type": "code",
      "source": "del p1",
      "metadata": {
        "trusted": true
      },
      "outputs": [],
      "execution_count": 20
    },
    {
      "id": "b855719b-195b-47d4-bf29-62d7d8f7b31c",
      "cell_type": "code",
      "source": "p1 = Person(\"Rudra\", 22)\nprint(p1)",
      "metadata": {
        "trusted": true
      },
      "outputs": [
        {
          "name": "stdout",
          "output_type": "stream",
          "text": "Person(name=Rudra, age=22)\n"
        }
      ],
      "execution_count": 22
    },
    {
      "id": "70b87fab-3f7a-4782-b2ec-cb3a7f406c6f",
      "cell_type": "code",
      "source": "class Animal:\n    def __init__(self, name, legs):\n        self.name = name\n        self.legs = legs\n\n    def printInfo(self):\n        print(f\"The animal is {self.name.lower()} and it has {self.legs} {\"legs.\" if self.legs > 1 else \"leg.\"}\")",
      "metadata": {
        "trusted": true
      },
      "outputs": [],
      "execution_count": 25
    },
    {
      "id": "07280a90-e84a-4668-b697-cef93f6b8a55",
      "cell_type": "code",
      "source": "a1 = Animal(\"Cow\", 4)\na1.printInfo()",
      "metadata": {
        "trusted": true
      },
      "outputs": [
        {
          "name": "stdout",
          "output_type": "stream",
          "text": "The animal is cow and it has 4 legs.\n"
        }
      ],
      "execution_count": 26
    },
    {
      "id": "4dcd46e0-0e59-42c5-891a-990142fc4021",
      "cell_type": "code",
      "source": "class Cat(Animal):\n    def __init__(self, name, legs, sound):\n        super().__init__(name, legs)\n        self.sound = sound\n\n    def makeSound(self):\n        print(f\"A cat named {self.name} {self.sound}s!\")\n\n    def printInfo(self):\n        print(f\"The name of cat is {self.name}. It has {self.legs} legs. It makes the sound of {self.sound}.\")",
      "metadata": {
        "trusted": true
      },
      "outputs": [],
      "execution_count": 34
    },
    {
      "id": "a87132c7-880e-4cd9-a6b0-59656459dc2a",
      "cell_type": "code",
      "source": "a3 = Cat(\"Miki\", 4, \"meow\")\na3.printInfo()\na3.makeSound()",
      "metadata": {
        "trusted": true
      },
      "outputs": [
        {
          "name": "stdout",
          "output_type": "stream",
          "text": "The name of cat is Miki. It has 4 legs. It makes the sound of meow.\nA cat named Miki meows!\n"
        }
      ],
      "execution_count": 35
    },
    {
      "id": "2827db11-a6d3-4071-9fa2-da8d4490617a",
      "cell_type": "code",
      "source": "",
      "metadata": {
        "trusted": true
      },
      "outputs": [],
      "execution_count": null
    }
  ]
}