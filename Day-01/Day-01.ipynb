{
  "cells": [
    {
      "cell_type": "code",
      "execution_count": null,
      "id": "34efeeb7-4fe8-4019-a6b6-3d794d6ba508",
      "metadata": {
        "trusted": true
      },
      "outputs": [
        {
          "name": "stdout",
          "output_type": "stream",
          "text": [
            "4\n"
          ]
        }
      ],
      "source": [
        "a = 4\n",
        "print(a)"
      ]
    },
    {
      "cell_type": "code",
      "execution_count": 3,
      "id": "0ec27b2f-fcf0-42c4-b031-061c5edad539",
      "metadata": {
        "trusted": true
      },
      "outputs": [
        {
          "name": "stdout",
          "output_type": "stream",
          "text": [
            "Rudra\n"
          ]
        }
      ],
      "source": [
        "b = 5\n",
        "b = \"Rudra\"\n",
        "print(b)"
      ]
    },
    {
      "cell_type": "code",
      "execution_count": 5,
      "id": "43837477-5cd9-4951-8ca7-2221b7c5e146",
      "metadata": {
        "trusted": true
      },
      "outputs": [
        {
          "name": "stdout",
          "output_type": "stream",
          "text": [
            "<class 'float'>\n",
            "<class 'str'>\n",
            "4.0 6\n"
          ]
        }
      ],
      "source": [
        "a = float(4)\n",
        "b = str(6)\n",
        "print(type(a))\n",
        "print(type(b))\n",
        "print(a, b)"
      ]
    },
    {
      "cell_type": "code",
      "execution_count": 6,
      "id": "8a3bfcb4-be34-42d6-845d-9436506a76ae",
      "metadata": {
        "trusted": true
      },
      "outputs": [
        {
          "name": "stdout",
          "output_type": "stream",
          "text": [
            "<class 'str'>\n",
            "<class 'str'>\n"
          ]
        }
      ],
      "source": [
        "a = \"Rudra\"\n",
        "print(type(a))\n",
        "a = 'Rudra'\n",
        "print(type(a))"
      ]
    },
    {
      "cell_type": "code",
      "execution_count": 7,
      "id": "ed3debc4-7d4a-465b-9307-aebd3d9b3edd",
      "metadata": {
        "trusted": true
      },
      "outputs": [
        {
          "name": "stdout",
          "output_type": "stream",
          "text": [
            "Dada Niruma Pujyashree\n"
          ]
        }
      ],
      "source": [
        "a, b, c = \"Dada\", \"Niruma\", 'Pujyashree'\n",
        "print(a, b, c)"
      ]
    },
    {
      "cell_type": "code",
      "execution_count": 9,
      "id": "1a31b52f-7329-4a79-9e75-c47b37201f0e",
      "metadata": {
        "trusted": true
      },
      "outputs": [
        {
          "name": "stdout",
          "output_type": "stream",
          "text": [
            "DADA DADA DADA\n"
          ]
        }
      ],
      "source": [
        "a = b = c = \"DADA\"\n",
        "print(a, b, c)"
      ]
    },
    {
      "cell_type": "code",
      "execution_count": 13,
      "id": "9cb08a29-5ffe-40ca-9651-a8e72503d718",
      "metadata": {
        "trusted": true
      },
      "outputs": [
        {
          "name": "stdout",
          "output_type": "stream",
          "text": [
            "bat ball stumps\n"
          ]
        }
      ],
      "source": [
        "cricket = [ \"bat\", \"ball\", \"stumps\" ]\n",
        "x, y, z = cricket # no. of variables must be same as length of list/tuple\n",
        "print(x, y, z)"
      ]
    },
    {
      "cell_type": "code",
      "execution_count": 14,
      "id": "e0cb8633-96ca-4ca3-b54b-661e1c7e4c47",
      "metadata": {
        "trusted": true
      },
      "outputs": [
        {
          "name": "stdout",
          "output_type": "stream",
          "text": [
            "Weather is cloudy\n"
          ]
        }
      ],
      "source": [
        "x = \"Weather\"\n",
        "y = \"is\"\n",
        "z = \"cloudy\"\n",
        "print(x, y, z)"
      ]
    },
    {
      "cell_type": "code",
      "execution_count": 15,
      "id": "7c5bd5f3-6f1d-4fd1-9d05-a4aad34256ef",
      "metadata": {
        "trusted": true
      },
      "outputs": [
        {
          "name": "stdout",
          "output_type": "stream",
          "text": [
            "Weatheriscloudy\n"
          ]
        }
      ],
      "source": [
        "print(x + y + z)"
      ]
    },
    {
      "cell_type": "code",
      "execution_count": 18,
      "id": "757efd79-554c-4e1a-b76c-81a41a9865d2",
      "metadata": {
        "trusted": true
      },
      "outputs": [
        {
          "name": "stdout",
          "output_type": "stream",
          "text": [
            "4 rudra\n"
          ]
        }
      ],
      "source": [
        "a = 4\n",
        "b = 'rudra'\n",
        "print(a, b)"
      ]
    },
    {
      "cell_type": "code",
      "execution_count": 19,
      "id": "17f21bbc-a959-46af-bea7-ed235fd609b9",
      "metadata": {
        "trusted": true
      },
      "outputs": [
        {
          "name": "stdout",
          "output_type": "stream",
          "text": [
            "Weather is cloudy\n",
            "Weather is windy\n"
          ]
        }
      ],
      "source": [
        "a = \"windy\"\n",
        "\n",
        "def tellWeatherCondition():\n",
        "    a = \"cloudy\"\n",
        "    print(\"Weather is\", a)\n",
        "\n",
        "tellWeatherCondition()\n",
        "print(\"Weather is\", a)"
      ]
    },
    {
      "cell_type": "code",
      "execution_count": 23,
      "id": "1906d3ff-83dd-4f56-b953-267a8221d95d",
      "metadata": {
        "trusted": true
      },
      "outputs": [
        {
          "name": "stdout",
          "output_type": "stream",
          "text": [
            "Rudra\n",
            "Rudra\n"
          ]
        }
      ],
      "source": [
        "def createGlobalVar():\n",
        "    global a\n",
        "    a = \"Rudra\"\n",
        "    print(a)\n",
        "\n",
        "createGlobalVar()\n",
        "print(a)"
      ]
    },
    {
      "cell_type": "code",
      "execution_count": 24,
      "id": "64e7eed8-5df3-450b-b21e-3527abcc894f",
      "metadata": {
        "trusted": true
      },
      "outputs": [
        {
          "name": "stdout",
          "output_type": "stream",
          "text": [
            "range(0, 5)\n"
          ]
        }
      ],
      "source": [
        "a = range(5)\n",
        "print(a)"
      ]
    },
    {
      "cell_type": "code",
      "execution_count": 42,
      "id": "1fc0a609-7045-425a-bcc5-516cfd8a8395",
      "metadata": {
        "trusted": true
      },
      "outputs": [
        {
          "name": "stdout",
          "output_type": "stream",
          "text": [
            "False\n"
          ]
        }
      ],
      "source": [
        "a = bool(0)\n",
        "print(a)"
      ]
    },
    {
      "cell_type": "code",
      "execution_count": 38,
      "id": "42199430-474e-4657-8367-357c6b7abf5f",
      "metadata": {
        "trusted": true
      },
      "outputs": [
        {
          "name": "stdout",
          "output_type": "stream",
          "text": [
            "1\n"
          ]
        }
      ],
      "source": [
        "import random\n",
        "print(random.randrange(1, 7)) # will print any no. from 1 to 6."
      ]
    },
    {
      "cell_type": "code",
      "execution_count": 51,
      "id": "b0ab7c97-feae-4103-a16b-ff2107f16266",
      "metadata": {
        "trusted": true
      },
      "outputs": [
        {
          "name": "stdout",
          "output_type": "stream",
          "text": [
            "True\n"
          ]
        }
      ],
      "source": [
        "d = False\n",
        "print(isinstance(d, int))"
      ]
    },
    {
      "cell_type": "code",
      "execution_count": 52,
      "id": "324994ad-cb49-4769-843b-cb78fd9b9b08",
      "metadata": {
        "trusted": true
      },
      "outputs": [
        {
          "name": "stdout",
          "output_type": "stream",
          "text": [
            "10\n"
          ]
        }
      ],
      "source": [
        "a = True\n",
        "print(a*10)"
      ]
    },
    {
      "cell_type": "code",
      "execution_count": 56,
      "id": "d2fbff97-9134-4244-83d2-23ee133519d7",
      "metadata": {
        "trusted": true
      },
      "outputs": [
        {
          "name": "stdout",
          "output_type": "stream",
          "text": [
            "8\n"
          ]
        }
      ],
      "source": [
        "print(2 ** 3)"
      ]
    },
    {
      "cell_type": "code",
      "execution_count": 59,
      "id": "f8464229-f77d-4c98-941a-8a1dca58f8f3",
      "metadata": {
        "trusted": true
      },
      "outputs": [
        {
          "name": "stdout",
          "output_type": "stream",
          "text": [
            "0\n"
          ]
        }
      ],
      "source": [
        "print(6 % 3) # outputs remainder"
      ]
    },
    {
      "cell_type": "code",
      "execution_count": 60,
      "id": "e477a369-909e-461f-b988-987552a4c8c0",
      "metadata": {
        "trusted": true
      },
      "outputs": [
        {
          "name": "stdout",
          "output_type": "stream",
          "text": [
            "2\n"
          ]
        }
      ],
      "source": [
        "print(6 // 3) # outputs quotient"
      ]
    },
    {
      "cell_type": "code",
      "execution_count": 61,
      "id": "bc184f83-1d9b-4e0a-8372-3fc4a551b5a0",
      "metadata": {
        "trusted": true
      },
      "outputs": [
        {
          "name": "stdout",
          "output_type": "stream",
          "text": [
            "5\n"
          ]
        }
      ],
      "source": [
        "print(x := 5)"
      ]
    },
    {
      "cell_type": "code",
      "execution_count": 66,
      "id": "06b826a5-2b1c-4b7c-b103-3f1bf2667b7f",
      "metadata": {
        "trusted": true
      },
      "outputs": [
        {
          "name": "stdout",
          "output_type": "stream",
          "text": [
            "True\n"
          ]
        }
      ],
      "source": [
        "x = 7\n",
        "y = 8\n",
        "print(x is not y)"
      ]
    },
    {
      "cell_type": "code",
      "execution_count": 72,
      "id": "14903ace-78eb-4c32-ae1e-b59f3b69b858",
      "metadata": {
        "trusted": true
      },
      "outputs": [
        {
          "name": "stdout",
          "output_type": "stream",
          "text": [
            "b is greater than a.\n"
          ]
        }
      ],
      "source": [
        "a = 10\n",
        "b = 17\n",
        "if a > b:\n",
        "    print(\"a is greater than b.\")\n",
        "elif b > a:\n",
        "    print(\"b is greater than a.\")\n",
        "else:\n",
        "    print(\"a is equal to b.\")"
      ]
    },
    {
      "cell_type": "code",
      "execution_count": 74,
      "id": "b2a0a8d4-ce0e-4627-a4fe-9dcf8b55da67",
      "metadata": {
        "trusted": true
      },
      "outputs": [
        {
          "name": "stdout",
          "output_type": "stream",
          "text": [
            "45\n"
          ]
        }
      ],
      "source": [
        "a = 45\n",
        "b = 18\n",
        "print(a) if a > b else print(b)"
      ]
    },
    {
      "cell_type": "code",
      "execution_count": 76,
      "id": "5db5b794-3b85-4022-a210-6c0c392a76ee",
      "metadata": {
        "trusted": true
      },
      "outputs": [
        {
          "name": "stdout",
          "output_type": "stream",
          "text": [
            "=\n"
          ]
        }
      ],
      "source": [
        "a = 93\n",
        "b = 93\n",
        "print(a) if a > b else print(b) if b > a else print(\"=\")"
      ]
    },
    {
      "cell_type": "code",
      "execution_count": 81,
      "id": "8824aac3-854d-41b5-a87b-10512733ca88",
      "metadata": {
        "trusted": true
      },
      "outputs": [
        {
          "name": "stdout",
          "output_type": "stream",
          "text": [
            "x wins!\n"
          ]
        }
      ],
      "source": [
        "x = 65\n",
        "y = 45\n",
        "if x > y and x > 0:\n",
        "    print(\"x wins!\")"
      ]
    },
    {
      "cell_type": "code",
      "execution_count": 79,
      "id": "043200e0-c92d-4762-9235-552ab87a553c",
      "metadata": {
        "trusted": true
      },
      "outputs": [
        {
          "name": "stdout",
          "output_type": "stream",
          "text": [
            "x wins!\n"
          ]
        }
      ],
      "source": [
        "x = 65\n",
        "y = 45\n",
        "if x < y or x > 0:\n",
        "    print(\"x wins!\")"
      ]
    },
    {
      "cell_type": "code",
      "execution_count": 82,
      "id": "c25766c7-184b-4c96-89c2-7e45ba90ad7e",
      "metadata": {
        "trusted": true
      },
      "outputs": [
        {
          "name": "stdout",
          "output_type": "stream",
          "text": [
            "x > y\n"
          ]
        }
      ],
      "source": [
        "x = 65\n",
        "y = 45\n",
        "if not x > y:\n",
        "    print(\"x < y\")\n",
        "else:\n",
        "    print(\"x > y\")"
      ]
    },
    {
      "cell_type": "code",
      "execution_count": 86,
      "id": "9273ed06-1388-4a31-bc4c-0b026fe9d09f",
      "metadata": {
        "trusted": true
      },
      "outputs": [
        {
          "name": "stdout",
          "output_type": "stream",
          "text": [
            "Weekday\n"
          ]
        }
      ],
      "source": [
        "day = 5\n",
        "match day:\n",
        "    case 1 | 2 | 3 | 4 | 5:\n",
        "        print(\"Weekday\")\n",
        "    case 6 | 7:\n",
        "        print(\"Weekend\")\n",
        "    case _:\n",
        "        print(\"Invalid input!\")"
      ]
    },
    {
      "cell_type": "code",
      "execution_count": 95,
      "id": "49a34448-79f2-4ce9-ab79-24c24cae33e3",
      "metadata": {
        "trusted": true
      },
      "outputs": [
        {
          "name": "stdout",
          "output_type": "stream",
          "text": [
            "1\n",
            "2\n",
            "3\n",
            "4\n",
            "Value of i = 5\n"
          ]
        }
      ],
      "source": [
        "i = 1\n",
        "while i < 5:\n",
        "    print(i)\n",
        "    i += 1\n",
        "else:\n",
        "    print(\"Value of i =\", i)"
      ]
    },
    {
      "cell_type": "code",
      "execution_count": 89,
      "id": "1f172322-37a0-44ab-b0f6-800d0366b7c8",
      "metadata": {
        "trusted": true
      },
      "outputs": [
        {
          "name": "stdout",
          "output_type": "stream",
          "text": [
            "bat\n",
            "ball\n",
            "stumps\n"
          ]
        }
      ],
      "source": [
        "for thing in cricket:\n",
        "    print(thing)"
      ]
    },
    {
      "cell_type": "code",
      "execution_count": 90,
      "id": "8f0f8f0f-c532-4605-a73c-6b6222c585a4",
      "metadata": {
        "trusted": true
      },
      "outputs": [
        {
          "name": "stdout",
          "output_type": "stream",
          "text": [
            "0 1 2 3 4 5 6 7 8 9 "
          ]
        }
      ],
      "source": [
        "for i in range(10):\n",
        "    print(i, end=\" \")"
      ]
    },
    {
      "cell_type": "code",
      "execution_count": 91,
      "id": "9f5780b9-e283-40dd-bc6f-5916b6a7a428",
      "metadata": {
        "trusted": true
      },
      "outputs": [
        {
          "name": "stdout",
          "output_type": "stream",
          "text": [
            "3 4 5 6 7 8 9 "
          ]
        }
      ],
      "source": [
        "for i in range(3, 10):\n",
        "    print(i, end=\" \")"
      ]
    },
    {
      "cell_type": "code",
      "execution_count": 92,
      "id": "94edcc4f-b67a-4d70-92c8-2ec39bf63334",
      "metadata": {
        "trusted": true
      },
      "outputs": [
        {
          "name": "stdout",
          "output_type": "stream",
          "text": [
            "2 4 6 8 "
          ]
        }
      ],
      "source": [
        "for i in range(2, 10, 2):\n",
        "    print(i, end=\" \")"
      ]
    },
    {
      "cell_type": "code",
      "execution_count": 96,
      "id": "70e6484f-8704-4477-86ea-b5acf4112b79",
      "metadata": {
        "trusted": true
      },
      "outputs": [
        {
          "name": "stdout",
          "output_type": "stream",
          "text": [
            "0\n",
            "1\n",
            "2\n",
            "3\n",
            "4\n",
            "Finished the job!\n"
          ]
        }
      ],
      "source": [
        "for i in range(5):\n",
        "    print(i)\n",
        "else:\n",
        "    print(\"Finished the job!\")"
      ]
    },
    {
      "cell_type": "code",
      "execution_count": 100,
      "id": "71c548f8-feaa-40e3-9cf3-655d5d8ca79a",
      "metadata": {
        "trusted": true
      },
      "outputs": [
        {
          "name": "stdout",
          "output_type": "stream",
          "text": [
            "Hello Rudra!\n"
          ]
        }
      ],
      "source": [
        "def greet(name):\n",
        "    print(\"Hello \" + name + \"!\")\n",
        "\n",
        "greet(\"Rudra\")"
      ]
    },
    {
      "cell_type": "code",
      "execution_count": 109,
      "id": "01262739-dbd8-49b1-8236-5fb5c8522d86",
      "metadata": {
        "trusted": true
      },
      "outputs": [
        {
          "name": "stdout",
          "output_type": "stream",
          "text": [
            "Current ball bowled by the bowler was No Ball\n",
            "('Wide Ball', 'No Ball', 'Proper Ball', 'Bouncer')\n"
          ]
        }
      ],
      "source": [
        "def giveCurrentBallInfo(*balls):\n",
        "    print(\"Current ball bowled by the bowler was\", balls[1])\n",
        "    print(balls)\n",
        "\n",
        "giveCurrentBallInfo(\"Wide Ball\", \"No Ball\", \"Proper Ball\", \"Bouncer\")"
      ]
    },
    {
      "cell_type": "code",
      "execution_count": 108,
      "id": "7fdba618-66e4-4e88-8d92-e4057c7daabd",
      "metadata": {
        "trusted": true
      },
      "outputs": [
        {
          "name": "stdout",
          "output_type": "stream",
          "text": [
            "{'batsman': 'Left-handed', 'bowler': 'Right-handed', 'bowlerType': 'Off Spin'}\n"
          ]
        }
      ],
      "source": [
        "def getPlayerInfo(**playerInfo):\n",
        "    print(playerInfo)\n",
        "\n",
        "getPlayerInfo(batsman=\"Left-handed\", bowler=\"Right-handed\", bowlerType=\"Off Spin\")"
      ]
    },
    {
      "cell_type": "code",
      "execution_count": 112,
      "id": "e8c3cca1-6edd-4c09-b6d4-e9a221b7b38f",
      "metadata": {
        "trusted": true
      },
      "outputs": [
        {
          "name": "stdout",
          "output_type": "stream",
          "text": [
            "16\n",
            "25\n"
          ]
        }
      ],
      "source": [
        "def findSquareOf(x, /):\n",
        "    return x * x\n",
        "\n",
        "print(findSquareOf(4))\n",
        "print(findSquareOf(5))"
      ]
    },
    {
      "cell_type": "code",
      "execution_count": 115,
      "id": "d514a9c2-f0cb-4202-87f3-589ccb5ff9c5",
      "metadata": {
        "trusted": true
      },
      "outputs": [
        {
          "name": "stdout",
          "output_type": "stream",
          "text": [
            "8.0\n",
            "5.0\n"
          ]
        }
      ],
      "source": [
        "import math\n",
        "\n",
        "def findSquareRootOf(*, a):\n",
        "    return math.sqrt(a)\n",
        "\n",
        "print(findSquareRootOf(a = 64))\n",
        "print(findSquareRootOf(a = 25))"
      ]
    }
  ],
  "metadata": {
    "kernelspec": {
      "display_name": "Python (Pyodide)",
      "language": "python",
      "name": "python"
    },
    "language_info": {
      "codemirror_mode": {
        "name": "python",
        "version": 3
      },
      "file_extension": ".py",
      "mimetype": "text/x-python",
      "name": "python",
      "nbconvert_exporter": "python",
      "pygments_lexer": "ipython3",
      "version": "3.8"
    }
  },
  "nbformat": 4,
  "nbformat_minor": 5
}
