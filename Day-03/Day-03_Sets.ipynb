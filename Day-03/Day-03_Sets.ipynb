{
  "metadata": {
    "kernelspec": {
      "name": "python",
      "display_name": "Python (Pyodide)",
      "language": "python"
    },
    "language_info": {
      "codemirror_mode": {
        "name": "python",
        "version": 3
      },
      "file_extension": ".py",
      "mimetype": "text/x-python",
      "name": "python",
      "nbconvert_exporter": "python",
      "pygments_lexer": "ipython3",
      "version": "3.8"
    }
  },
  "nbformat_minor": 5,
  "nbformat": 4,
  "cells": [
    {
      "id": "0d98d33d-bcc0-47d8-bf64-ddb75c982716",
      "cell_type": "code",
      "source": "nums = {1, 2, 3}\nprint(nums)",
      "metadata": {
        "trusted": true
      },
      "outputs": [
        {
          "name": "stdout",
          "output_type": "stream",
          "text": "{1, 2, 3}\n"
        }
      ],
      "execution_count": 3
    },
    {
      "id": "5c8f9f20-2d03-4ea5-9f04-edb909c29263",
      "cell_type": "code",
      "source": "mySet = {\"rudra\", \"pujyashree\", \"rudra\"}\nprint(mySet)",
      "metadata": {
        "trusted": true
      },
      "outputs": [
        {
          "name": "stdout",
          "output_type": "stream",
          "text": "{'rudra', 'pujyashree'}\n"
        }
      ],
      "execution_count": 4
    },
    {
      "id": "14ba49db-f15c-49b1-acce-f7a9e7f45943",
      "cell_type": "code",
      "source": "st = {True, False, 0, 1}\nprint(st)",
      "metadata": {
        "trusted": true
      },
      "outputs": [
        {
          "name": "stdout",
          "output_type": "stream",
          "text": "{False, True}\n"
        }
      ],
      "execution_count": 5
    },
    {
      "id": "cebd4529-d7b3-453b-a8a1-46424a6411fd",
      "cell_type": "code",
      "source": "print(len(nums))\nprint(len(mySet))\nprint(len(st))",
      "metadata": {
        "trusted": true
      },
      "outputs": [
        {
          "name": "stdout",
          "output_type": "stream",
          "text": "3\n2\n2\n"
        }
      ],
      "execution_count": 6
    },
    {
      "id": "759d7518-7c91-47c2-a0f5-be4a3959390f",
      "cell_type": "code",
      "source": "print(\"pujyashree\" in mySet)",
      "metadata": {
        "trusted": true
      },
      "outputs": [
        {
          "name": "stdout",
          "output_type": "stream",
          "text": "True\n"
        }
      ],
      "execution_count": 7
    },
    {
      "id": "1c0a5543-82d7-4b19-9ca7-41844016b770",
      "cell_type": "code",
      "source": "mySet.add(\"niruma\")\nprint(mySet)",
      "metadata": {
        "trusted": true
      },
      "outputs": [
        {
          "name": "stdout",
          "output_type": "stream",
          "text": "{'rudra', 'niruma', 'pujyashree'}\n"
        }
      ],
      "execution_count": 8
    },
    {
      "id": "5705f054-3be1-4f74-abfe-4631950e6a3b",
      "cell_type": "code",
      "source": "nums.update((2,5,7,5))\nprint(nums)",
      "metadata": {
        "trusted": true
      },
      "outputs": [
        {
          "name": "stdout",
          "output_type": "stream",
          "text": "{1, 2, 3, 5, 7}\n"
        }
      ],
      "execution_count": 9
    },
    {
      "id": "3292c95e-369b-4e13-a387-049b89b7907c",
      "cell_type": "code",
      "source": "nums.update([2,3,4,5,6,7,8])\nprint(nums)",
      "metadata": {
        "trusted": true
      },
      "outputs": [
        {
          "name": "stdout",
          "output_type": "stream",
          "text": "{1, 2, 3, 4, 5, 6, 7, 8}\n"
        }
      ],
      "execution_count": 10
    },
    {
      "id": "0e52958f-6c5f-44ef-aa26-1ed0df6af3b6",
      "cell_type": "code",
      "source": "print(mySet)\nmySet.remove(\"rudra\")\nprint(mySet)",
      "metadata": {
        "trusted": true
      },
      "outputs": [
        {
          "name": "stdout",
          "output_type": "stream",
          "text": "{'rudra', 'niruma', 'pujyashree'}\n{'niruma', 'pujyashree'}\n"
        }
      ],
      "execution_count": 11
    },
    {
      "id": "51c388f6-406f-46a7-afe7-4d54f62b4451",
      "cell_type": "code",
      "source": "mySet.discard(\"rudra\")",
      "metadata": {
        "trusted": true
      },
      "outputs": [],
      "execution_count": 14
    },
    {
      "id": "1606c99b-3731-41cc-a2a2-9b577d6e1aa9",
      "cell_type": "code",
      "source": "print(nums.pop())",
      "metadata": {
        "trusted": true
      },
      "outputs": [
        {
          "name": "stdout",
          "output_type": "stream",
          "text": "3\n"
        }
      ],
      "execution_count": 17
    },
    {
      "id": "3801ed9e-f4e0-4a58-9f56-af23867356ff",
      "cell_type": "code",
      "source": "nums.clear()\nprint(nums)",
      "metadata": {
        "trusted": true
      },
      "outputs": [
        {
          "name": "stdout",
          "output_type": "stream",
          "text": "set()\n"
        }
      ],
      "execution_count": 19
    },
    {
      "id": "506d2ac9-1846-43f7-85b0-5de46c6bf779",
      "cell_type": "code",
      "source": "print(st)\ndel st",
      "metadata": {
        "trusted": true
      },
      "outputs": [
        {
          "name": "stdout",
          "output_type": "stream",
          "text": "{False, True}\n"
        }
      ],
      "execution_count": 20
    },
    {
      "id": "30150f40-2e13-4497-8e61-5d5aee139441",
      "cell_type": "code",
      "source": "set1 = set((\"a\", \"b\", \"c\"))\nset2 = { 1, 2, 3 }\nset3 = set1.union(set2)\nprint(set3)",
      "metadata": {
        "trusted": true
      },
      "outputs": [
        {
          "name": "stdout",
          "output_type": "stream",
          "text": "{1, 2, 3, 'c', 'b', 'a'}\n"
        }
      ],
      "execution_count": 22
    },
    {
      "id": "4ecb8c0b-8720-478e-99cf-b593f3009488",
      "cell_type": "code",
      "source": "set1 = set((\"a\", \"b\", \"c\"))\nset2 = { 1, 2, 3 }\nset3 = set1 | set2\nprint(set3)",
      "metadata": {
        "trusted": true
      },
      "outputs": [
        {
          "name": "stdout",
          "output_type": "stream",
          "text": "{1, 2, 3, 'c', 'b', 'a'}\n"
        }
      ],
      "execution_count": 23
    },
    {
      "id": "7beaefce-123c-4ce5-a089-53d278cf79df",
      "cell_type": "code",
      "source": "x = {1,2,3,4}\ny = [2,3,6,9]\nnewSet = x.union(y)\nprint(newSet)",
      "metadata": {
        "trusted": true
      },
      "outputs": [
        {
          "name": "stdout",
          "output_type": "stream",
          "text": "{1, 2, 3, 4, 6, 9}\n"
        }
      ],
      "execution_count": 24
    },
    {
      "id": "f65c2755-3bff-4679-874b-6fb88e51f6f0",
      "cell_type": "code",
      "source": "set1 = { \"apple\", \"banana\", \"cherry\" }\nset2 = { \"google\", \"microsoft\", \"apple\" }\nnewSet = set1.intersection(set2)\nprint(newSet)",
      "metadata": {
        "trusted": true
      },
      "outputs": [
        {
          "name": "stdout",
          "output_type": "stream",
          "text": "{'apple'}\n"
        }
      ],
      "execution_count": 25
    },
    {
      "id": "47e021a0-0f11-45aa-ac00-452661cb5273",
      "cell_type": "code",
      "source": "set1 = { \"apple\", \"banana\", \"cherry\" }\nset2 = { \"google\", \"microsoft\", \"apple\" }\nnewSet = set1 & set2\nprint(newSet)",
      "metadata": {
        "trusted": true
      },
      "outputs": [
        {
          "name": "stdout",
          "output_type": "stream",
          "text": "{'apple'}\n"
        }
      ],
      "execution_count": 26
    },
    {
      "id": "426d0250-e74d-4706-8665-2ebb18b00134",
      "cell_type": "code",
      "source": "set1 = { \"apple\", \"banana\", \"cherry\" }\nset2 = { \"google\", \"microsoft\", \"apple\" }\nset1.intersection_update(set2)\nprint(set1)\nprint(set2)",
      "metadata": {
        "trusted": true
      },
      "outputs": [
        {
          "name": "stdout",
          "output_type": "stream",
          "text": "{'apple'}\n{'apple', 'google', 'microsoft'}\n"
        }
      ],
      "execution_count": 27
    },
    {
      "id": "ba85899a-5b0b-4651-9384-866d3ed15344",
      "cell_type": "code",
      "source": "set1 = { \"apple\", \"banana\", \"cherry\" }\nset2 = { \"google\", \"microsoft\", \"apple\" }\nset3 = set1.difference(set2)\nprint(set3)",
      "metadata": {
        "trusted": true
      },
      "outputs": [
        {
          "name": "stdout",
          "output_type": "stream",
          "text": "{'cherry', 'banana'}\n"
        }
      ],
      "execution_count": 28
    },
    {
      "id": "216d18ea-1a89-402c-a013-f3924c919ee2",
      "cell_type": "code",
      "source": "set1 = { \"apple\", \"banana\", \"cherry\" }\nset2 = { \"google\", \"microsoft\", \"apple\" }\nset3 = set2 - set1\nprint(set3)",
      "metadata": {
        "trusted": true
      },
      "outputs": [
        {
          "name": "stdout",
          "output_type": "stream",
          "text": "{'google', 'microsoft'}\n"
        }
      ],
      "execution_count": 30
    },
    {
      "id": "c829139a-030e-42eb-bef1-184c285b9ecf",
      "cell_type": "code",
      "source": "set1 = { \"apple\", \"banana\", \"cherry\" }\nset2 = { \"google\", \"microsoft\", \"apple\" }\nset2.difference_update(set1)\nprint(set1)\nprint(set2)",
      "metadata": {
        "trusted": true
      },
      "outputs": [
        {
          "name": "stdout",
          "output_type": "stream",
          "text": "{'apple', 'cherry', 'banana'}\n{'google', 'microsoft'}\n"
        }
      ],
      "execution_count": 32
    },
    {
      "id": "8e3bae40-a6a3-4b11-89ed-31ac0755b480",
      "cell_type": "code",
      "source": "set1 = { \"apple\", \"banana\", \"cherry\" }\nset2 = { \"google\", \"microsoft\", \"apple\" }\nset3 = set2.symmetric_difference(set1)\nprint(set3)",
      "metadata": {
        "trusted": true
      },
      "outputs": [
        {
          "name": "stdout",
          "output_type": "stream",
          "text": "{'google', 'cherry', 'banana', 'microsoft'}\n"
        }
      ],
      "execution_count": 34
    },
    {
      "id": "794a2bef-856d-43cd-9e34-7aee21d2f059",
      "cell_type": "code",
      "source": "set1 = { \"apple\", \"banana\", \"cherry\" }\nset2 = { \"google\", \"microsoft\", \"apple\" }\nset3 = set1 ^ set2\nprint(set3)",
      "metadata": {
        "trusted": true
      },
      "outputs": [
        {
          "name": "stdout",
          "output_type": "stream",
          "text": "{'google', 'cherry', 'banana', 'microsoft'}\n"
        }
      ],
      "execution_count": 35
    },
    {
      "id": "dd1efe07-6353-43fd-be53-d619f8166f39",
      "cell_type": "code",
      "source": "set1 = { \"apple\", \"banana\", \"cherry\" }\nset2 = { \"google\", \"microsoft\", \"apple\" }\nset1.symmetric_difference_update(set2)\nprint(set1)\nprint(set2)",
      "metadata": {
        "trusted": true
      },
      "outputs": [
        {
          "name": "stdout",
          "output_type": "stream",
          "text": "{'google', 'cherry', 'banana', 'microsoft'}\n{'apple', 'google', 'microsoft'}\n"
        }
      ],
      "execution_count": 36
    }
  ]
}