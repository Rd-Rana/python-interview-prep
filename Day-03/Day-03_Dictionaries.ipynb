{
  "metadata": {
    "kernelspec": {
      "name": "python",
      "display_name": "Python (Pyodide)",
      "language": "python"
    },
    "language_info": {
      "codemirror_mode": {
        "name": "python",
        "version": 3
      },
      "file_extension": ".py",
      "mimetype": "text/x-python",
      "name": "python",
      "nbconvert_exporter": "python",
      "pygments_lexer": "ipython3",
      "version": "3.8"
    }
  },
  "nbformat_minor": 5,
  "nbformat": 4,
  "cells": [
    {
      "id": "59048d8e-51ef-46cb-9cd5-b4f343709bdb",
      "cell_type": "code",
      "source": "dict1 = {\n    \"name\": \"Rudra\",\n    \"age\": 22,\n    \"hobbies\": [\"cricket\", \"reading\"]\n}\nprint(dict1)",
      "metadata": {
        "trusted": true
      },
      "outputs": [
        {
          "name": "stdout",
          "output_type": "stream",
          "text": "{'name': 'Rudra', 'age': 22, 'hobbies': ['cricket', 'reading']}\n"
        }
      ],
      "execution_count": 1
    },
    {
      "id": "beb646a0-3a30-4f6e-8b27-04a0673e78ab",
      "cell_type": "code",
      "source": "print(dict1[\"hobbies\"])",
      "metadata": {
        "trusted": true
      },
      "outputs": [
        {
          "name": "stdout",
          "output_type": "stream",
          "text": "['cricket', 'reading']\n"
        }
      ],
      "execution_count": 2
    },
    {
      "id": "783fb132-41ec-4db4-ac46-7924479b2a5f",
      "cell_type": "code",
      "source": "dict2 = {\n    \"name\": \"Rudra\",\n    \"name\": \"Rana\"\n}\nprint(dict2)",
      "metadata": {
        "trusted": true
      },
      "outputs": [
        {
          "name": "stdout",
          "output_type": "stream",
          "text": "{'name': 'Rana'}\n"
        }
      ],
      "execution_count": 5
    },
    {
      "id": "f557a75b-57b8-4559-8f59-5fff02577044",
      "cell_type": "code",
      "source": "print(len(dict1))",
      "metadata": {
        "trusted": true
      },
      "outputs": [
        {
          "name": "stdout",
          "output_type": "stream",
          "text": "3\n"
        }
      ],
      "execution_count": 6
    },
    {
      "id": "c7632056-aaf8-4aff-934a-5e4943ed0b05",
      "cell_type": "code",
      "source": "print(type(dict1))\nprint(type(dict2))",
      "metadata": {
        "trusted": true
      },
      "outputs": [
        {
          "name": "stdout",
          "output_type": "stream",
          "text": "<class 'dict'>\n<class 'dict'>\n"
        }
      ],
      "execution_count": 7
    },
    {
      "id": "dc258872-2b4a-4ca9-824c-af1cb4f0d451",
      "cell_type": "code",
      "source": "dict1 = dict(name = \"Rudra\", age = 22, hobbies = [\"cricket\", \"reading\"])\nprint(dict1)",
      "metadata": {
        "trusted": true
      },
      "outputs": [
        {
          "name": "stdout",
          "output_type": "stream",
          "text": "{'name': 'Rudra', 'age': 22, 'hobbies': ['cricket', 'reading']}\n"
        }
      ],
      "execution_count": 8
    },
    {
      "id": "84e7e3d5-421f-46e4-8a7c-30dc6e222a63",
      "cell_type": "code",
      "source": "print(dict1.get(\"hobbies\"))",
      "metadata": {
        "trusted": true
      },
      "outputs": [
        {
          "name": "stdout",
          "output_type": "stream",
          "text": "['cricket', 'reading']\n"
        }
      ],
      "execution_count": 9
    },
    {
      "id": "9c276548-add2-4587-a813-29a4c26c6715",
      "cell_type": "code",
      "source": "dictKeys = dict1.keys()\nprint(dictKeys)\nprint(type(dictKeys))",
      "metadata": {
        "trusted": true
      },
      "outputs": [
        {
          "name": "stdout",
          "output_type": "stream",
          "text": "dict_keys(['name', 'age', 'hobbies'])\n<class 'dict_keys'>\n"
        }
      ],
      "execution_count": 11
    },
    {
      "id": "b7442d0b-3f9f-4c76-8130-886e81b89536",
      "cell_type": "code",
      "source": "dict1[\"surname\"] = \"Rana\"",
      "metadata": {
        "trusted": true
      },
      "outputs": [],
      "execution_count": 27
    },
    {
      "id": "626be86d-b4a5-4604-a8f9-19e437967b75",
      "cell_type": "code",
      "source": "print(dict1.keys())\ndict1[\"qualification\"] = \"B. Tech.\"\nprint(dict1.keys())",
      "metadata": {
        "trusted": true
      },
      "outputs": [
        {
          "name": "stdout",
          "output_type": "stream",
          "text": "dict_keys(['name', 'age', 'hobbies', 'surname'])\ndict_keys(['name', 'age', 'hobbies', 'surname', 'qualification'])\n"
        }
      ],
      "execution_count": 13
    },
    {
      "id": "e9b37c7a-ae56-4cfe-b479-bb5ba9194ac4",
      "cell_type": "code",
      "source": "print(dict1.values())\nprint(type(dict1.values()))",
      "metadata": {
        "trusted": true
      },
      "outputs": [
        {
          "name": "stdout",
          "output_type": "stream",
          "text": "dict_values(['Rudra', 22, ['cricket', 'reading'], 'Rana', 'B. Tech.'])\n<class 'dict_values'>\n"
        }
      ],
      "execution_count": 15
    },
    {
      "id": "3497f81a-d360-4f3d-afe2-0251fda0b785",
      "cell_type": "code",
      "source": "dictItems = dict1.items() # will return a list of tuples\nprint(dictItems)\nprint(type(dictItems))",
      "metadata": {
        "trusted": true
      },
      "outputs": [
        {
          "name": "stdout",
          "output_type": "stream",
          "text": "dict_items([('name', 'Rudra'), ('age', 22), ('hobbies', ['cricket', 'reading']), ('surname', 'Rana'), ('qualification', 'B. Tech.')])\n<class 'dict_items'>\n"
        }
      ],
      "execution_count": 17
    },
    {
      "id": "e45908ce-d0ff-428b-b273-3606dc84d63f",
      "cell_type": "code",
      "source": "print(\"surname\" in dict1)\nprint(\"last_name\" in dict1)",
      "metadata": {
        "trusted": true
      },
      "outputs": [
        {
          "name": "stdout",
          "output_type": "stream",
          "text": "True\nFalse\n"
        }
      ],
      "execution_count": 18
    },
    {
      "id": "e08979fd-1e31-44a0-a714-914d3f1a27f6",
      "cell_type": "code",
      "source": "print(dict1)\ndict1[\"age\"] = 23\nprint(dict1)",
      "metadata": {
        "trusted": true
      },
      "outputs": [
        {
          "name": "stdout",
          "output_type": "stream",
          "text": "{'name': 'Rudra', 'age': 22, 'hobbies': ['cricket', 'reading'], 'surname': 'Rana', 'qualification': 'B. Tech.'}\n{'name': 'Rudra', 'age': 23, 'hobbies': ['cricket', 'reading'], 'surname': 'Rana', 'qualification': 'B. Tech.'}\n"
        }
      ],
      "execution_count": 19
    },
    {
      "id": "da3720e7-6672-4264-9913-d345a1090074",
      "cell_type": "code",
      "source": "print(dict1)\ndict1.update({\"age\": 22, \"hobbies\": \"reading\"})\nprint(dict1)",
      "metadata": {
        "trusted": true
      },
      "outputs": [
        {
          "name": "stdout",
          "output_type": "stream",
          "text": "{'name': 'Rudra', 'age': 23, 'hobbies': ['cricket', 'reading'], 'surname': 'Rana', 'qualification': 'B. Tech.'}\n{'name': 'Rudra', 'age': 22, 'hobbies': 'reading', 'surname': 'Rana', 'qualification': 'B. Tech.'}\n"
        }
      ],
      "execution_count": 20
    },
    {
      "id": "900ec5ae-c4d3-427a-a1ec-29b97ba1d9ab",
      "cell_type": "code",
      "source": "print(dict1)\ndict1.pop(\"surname\")\nprint(dict1)",
      "metadata": {
        "trusted": true
      },
      "outputs": [
        {
          "name": "stdout",
          "output_type": "stream",
          "text": "{'name': 'Rudra', 'age': 22, 'hobbies': 'reading', 'surname': 'Rana'}\n{'name': 'Rudra', 'age': 22, 'hobbies': 'reading'}\n"
        }
      ],
      "execution_count": 28
    },
    {
      "id": "7419aba5-07dc-49b3-a01f-466cb0620227",
      "cell_type": "code",
      "source": "print(dict1)\ndict1.popitem()\nprint(dict1)",
      "metadata": {
        "trusted": true
      },
      "outputs": [
        {
          "name": "stdout",
          "output_type": "stream",
          "text": "{'name': 'Rudra', 'age': 22, 'hobbies': 'reading'}\n{'name': 'Rudra', 'age': 22}\n"
        }
      ],
      "execution_count": 29
    },
    {
      "id": "f24e3437-eaa1-4200-af8e-5509910fc9c7",
      "cell_type": "code",
      "source": "print(dict2)\ndel dict2[\"name\"]\nprint(dict2)",
      "metadata": {
        "trusted": true
      },
      "outputs": [
        {
          "name": "stdout",
          "output_type": "stream",
          "text": "{'name': 'Rana'}\n{}\n"
        }
      ],
      "execution_count": 30
    },
    {
      "id": "b6ef4782-a2e7-4b7d-bf32-fa37069698c6",
      "cell_type": "code",
      "source": "del dict2",
      "metadata": {
        "trusted": true
      },
      "outputs": [],
      "execution_count": 31
    },
    {
      "id": "5bf2b8c1-89be-485e-bdb9-54f0ccfbf7eb",
      "cell_type": "code",
      "source": "for key in dict1:\n    print(key)",
      "metadata": {
        "trusted": true
      },
      "outputs": [
        {
          "name": "stdout",
          "output_type": "stream",
          "text": "name\nage\n"
        }
      ],
      "execution_count": 34
    },
    {
      "id": "949de7ee-a3e4-4229-8346-e45b6d181f78",
      "cell_type": "code",
      "source": "for key in dict1:\n    print(dict1[key])",
      "metadata": {
        "trusted": true
      },
      "outputs": [
        {
          "name": "stdout",
          "output_type": "stream",
          "text": "Rudra\n22\n"
        }
      ],
      "execution_count": 35
    },
    {
      "id": "a760f931-b60d-4bfe-9605-cf0994e516c3",
      "cell_type": "code",
      "source": "for val in dict1.values():\n    print(val)",
      "metadata": {
        "trusted": true
      },
      "outputs": [
        {
          "name": "stdout",
          "output_type": "stream",
          "text": "Rudra\n22\n"
        }
      ],
      "execution_count": 36
    },
    {
      "id": "e745955d-9410-4013-b892-4d29d3e007a7",
      "cell_type": "code",
      "source": "for key in dict1.keys():\n    print(key)",
      "metadata": {
        "trusted": true
      },
      "outputs": [
        {
          "name": "stdout",
          "output_type": "stream",
          "text": "name\nage\n"
        }
      ],
      "execution_count": 37
    },
    {
      "id": "82f17b53-af19-45c6-a493-4eb52715e54e",
      "cell_type": "code",
      "source": "for key, value in dict1.items():\n    print(key, \":\", value)",
      "metadata": {
        "trusted": true
      },
      "outputs": [
        {
          "name": "stdout",
          "output_type": "stream",
          "text": "name : Rudra\nage : 22\n"
        }
      ],
      "execution_count": 38
    },
    {
      "id": "12826b33-77de-4800-82d2-f3aa5da76208",
      "cell_type": "code",
      "source": "print(\"dict1 =\", dict1)\ncopyDict = dict1.copy()\nprint(\"copyDict =\", copyDict)",
      "metadata": {
        "trusted": true
      },
      "outputs": [
        {
          "name": "stdout",
          "output_type": "stream",
          "text": "dict1 = {'name': 'Rudra', 'age': 22}\ncopyDict = {'name': 'Rudra', 'age': 22}\n"
        }
      ],
      "execution_count": 39
    },
    {
      "id": "580860c6-d7d3-4250-9945-b9bf68bea5e1",
      "cell_type": "code",
      "source": "print(\"dict1 =\", dict1)\ncopyDict1 = dict(dict1)\nprint(\"copyDict1 =\", copyDict1)",
      "metadata": {
        "trusted": true
      },
      "outputs": [
        {
          "name": "stdout",
          "output_type": "stream",
          "text": "dict1 = {'name': 'Rudra', 'age': 22}\ncopyDict1 = {'name': 'Rudra', 'age': 22}\n"
        }
      ],
      "execution_count": 41
    },
    {
      "id": "89826cc0-ab08-4f55-bd9d-cfd189f7ea08",
      "cell_type": "code",
      "source": "family = {\n    \"member1\": {\n        \"name\": \"Rudra\",\n        \"age\": 22\n    },\n    \"member2\": {\n        \"name\": \"Hinal\",\n        \"age\": 25\n    },\n    \"member3\": {\n        \"name\": \"Zarna\",\n        \"age\": 49\n    },\n    \"member4\": {\n        \"name\": \"Daxesh\",\n        \"age\": 51\n    }\n}\nprint(family)",
      "metadata": {
        "trusted": true
      },
      "outputs": [
        {
          "name": "stdout",
          "output_type": "stream",
          "text": "{'member1': {'name': 'Rudra', 'age': 22}, 'member2': {'name': 'Hinal', 'age': 25}, 'member3': {'name': 'Zarna', 'age': 49}, 'member4': {'name': 'Daxesh', 'age': 51}}\n"
        }
      ],
      "execution_count": 43
    },
    {
      "id": "4b8c8872-55d6-4c37-b7e6-a447c961f576",
      "cell_type": "code",
      "source": "member1 = {\n    \"name\": \"Rudra\",\n    \"age\": 22\n}\nmember2 = {\n    \"name\": \"Hinal\",\n    \"age\": 25\n}\nmember3 = {\n    \"name\": \"Zarna\",\n    \"age\": 49\n}\nmember4 = {\n    \"name\": \"Daxesh\",\n    \"age\": 51\n}\nmyFamily = {\n    \"member1\": member1,\n    \"member2\": member2,\n    \"member3\": member3,\n    \"member4\": member4\n}\nprint(myFamily)",
      "metadata": {
        "trusted": true
      },
      "outputs": [
        {
          "name": "stdout",
          "output_type": "stream",
          "text": "{'member1': {'name': 'Rudra', 'age': 22}, 'member2': {'name': 'Hinal', 'age': 25}, 'member3': {'name': 'Zarna', 'age': 49}, 'member4': {'name': 'Daxesh', 'age': 51}}\n"
        }
      ],
      "execution_count": 44
    },
    {
      "id": "6c945c7c-72a5-49f5-b7b0-a94275e2d56e",
      "cell_type": "code",
      "source": "print(family[\"member1\"][\"name\"])",
      "metadata": {
        "trusted": true
      },
      "outputs": [
        {
          "name": "stdout",
          "output_type": "stream",
          "text": "Rudra\n"
        }
      ],
      "execution_count": 45
    },
    {
      "id": "0ce8d400-a73c-43f3-9ec6-182ed22beee5",
      "cell_type": "code",
      "source": "for key, member in family.items():\n    print(key + \":\")\n    for memberKey in member:\n        print(memberKey, \":\", member[memberKey])",
      "metadata": {
        "trusted": true
      },
      "outputs": [
        {
          "name": "stdout",
          "output_type": "stream",
          "text": "member1:\nname : Rudra\nage : 22\nmember2:\nname : Hinal\nage : 25\nmember3:\nname : Zarna\nage : 49\nmember4:\nname : Daxesh\nage : 51\n"
        }
      ],
      "execution_count": 47
    }
  ]
}