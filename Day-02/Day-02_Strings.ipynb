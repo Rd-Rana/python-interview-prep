{
  "metadata": {
    "kernelspec": {
      "name": "python",
      "display_name": "Python (Pyodide)",
      "language": "python"
    },
    "language_info": {
      "codemirror_mode": {
        "name": "python",
        "version": 3
      },
      "file_extension": ".py",
      "mimetype": "text/x-python",
      "name": "python",
      "nbconvert_exporter": "python",
      "pygments_lexer": "ipython3",
      "version": "3.8"
    }
  },
  "nbformat_minor": 5,
  "nbformat": 4,
  "cells": [
    {
      "id": "e3537224-401a-4a44-a517-ada69118e764",
      "cell_type": "code",
      "source": "print(\"My name is 'Rudra'.\")",
      "metadata": {
        "trusted": true
      },
      "outputs": [
        {
          "name": "stdout",
          "output_type": "stream",
          "text": "My name is 'Rudra'.\n"
        }
      ],
      "execution_count": 1
    },
    {
      "id": "7a454608-254e-40b1-96b9-2358944c0712",
      "cell_type": "code",
      "source": "a = '''Lorem ipsum dolor sit amet,\nconsectetur adipiscing elit,\nsed do eiusmod tempor incididunt\nut labore et dolore magna aliqua.'''\nprint(a)",
      "metadata": {
        "trusted": true
      },
      "outputs": [
        {
          "name": "stdout",
          "output_type": "stream",
          "text": "Lorem ipsum dolor sit amet,\nconsectetur adipiscing elit,\nsed do eiusmod tempor incididunt\nut labore et dolore magna aliqua.\n"
        }
      ],
      "execution_count": 2
    },
    {
      "id": "916351d7-ce49-4787-9932-4e7065068a12",
      "cell_type": "code",
      "source": "a",
      "metadata": {
        "trusted": true
      },
      "outputs": [
        {
          "execution_count": 3,
          "output_type": "execute_result",
          "data": {
            "text/plain": "'Lorem ipsum dolor sit amet,\\nconsectetur adipiscing elit,\\nsed do eiusmod tempor incididunt\\nut labore et dolore magna aliqua.'"
          },
          "metadata": {}
        }
      ],
      "execution_count": 3
    },
    {
      "id": "5daf97dc-4f51-429f-a539-0f39d3f38026",
      "cell_type": "code",
      "source": "s = \"Pujya Dadashree\"\nprint(s[3])",
      "metadata": {
        "trusted": true
      },
      "outputs": [
        {
          "name": "stdout",
          "output_type": "stream",
          "text": "y\n"
        }
      ],
      "execution_count": 4
    },
    {
      "id": "82bbaf5a-c9b4-4c97-a07f-76e03e223137",
      "cell_type": "code",
      "source": "print(len(s))",
      "metadata": {
        "trusted": true
      },
      "outputs": [
        {
          "name": "stdout",
          "output_type": "stream",
          "text": "15\n"
        }
      ],
      "execution_count": 5
    },
    {
      "id": "8364c248-bb59-476b-a751-5566d6330a86",
      "cell_type": "code",
      "source": "print(\"Dada\" in s)\nprint(\"Pujya\" not in s)",
      "metadata": {
        "trusted": true
      },
      "outputs": [
        {
          "name": "stdout",
          "output_type": "stream",
          "text": "True\nFalse\n"
        }
      ],
      "execution_count": 10
    },
    {
      "id": "8a4fc1aa-bab0-4f93-937a-d6fd8b4c5058",
      "cell_type": "code",
      "source": "print(s[:5])\nprint(s[-9:])\nprint(s[6:10])",
      "metadata": {
        "trusted": true
      },
      "outputs": [
        {
          "name": "stdout",
          "output_type": "stream",
          "text": "Pujya\nDadashree\nDada\n"
        }
      ],
      "execution_count": 17
    },
    {
      "id": "94c95a7d-0e70-4d59-81cf-2668b111f760",
      "cell_type": "code",
      "source": "print(s.upper())\nprint(s.lower())",
      "metadata": {
        "trusted": true
      },
      "outputs": [
        {
          "name": "stdout",
          "output_type": "stream",
          "text": "PUJYA DADASHREE\npujya dadashree\n"
        }
      ],
      "execution_count": 22
    },
    {
      "id": "158d7c5b-26ad-4c66-a8b6-4ead0d378fc0",
      "cell_type": "code",
      "source": "s2 = \"          Hello World!           \"\nprint(s2.strip())",
      "metadata": {
        "trusted": true
      },
      "outputs": [
        {
          "name": "stdout",
          "output_type": "stream",
          "text": "Hello World!\n"
        }
      ],
      "execution_count": 19
    },
    {
      "id": "a14cb587-f6a9-4cda-9865-e111fff9510e",
      "cell_type": "code",
      "source": "print(s.replace(\"Dadashree\", \"Niruma\"))",
      "metadata": {
        "trusted": true
      },
      "outputs": [
        {
          "name": "stdout",
          "output_type": "stream",
          "text": "Pujya Niruma\n"
        }
      ],
      "execution_count": 21
    },
    {
      "id": "ae788ddf-4c31-42b4-98b4-24bab186a800",
      "cell_type": "code",
      "source": "print(s.split(\",\"))\nprint(s.split(\" \"))",
      "metadata": {
        "trusted": true
      },
      "outputs": [
        {
          "name": "stdout",
          "output_type": "stream",
          "text": "['Pujya Dadashree']\n['Pujya', 'Dadashree']\n"
        }
      ],
      "execution_count": 25
    },
    {
      "id": "cf5234f9-9d4c-4fe3-931d-21b397521023",
      "cell_type": "code",
      "source": "a = \"Rudra\"\nb = \"Rana\"\nc = a + b\nprint(c)\nc = a + \" \" + b\nprint(c)",
      "metadata": {
        "trusted": true
      },
      "outputs": [
        {
          "name": "stdout",
          "output_type": "stream",
          "text": "RudraRana\nRudra Rana\n"
        }
      ],
      "execution_count": 27
    },
    {
      "id": "e20848bd-c945-48bb-9c70-0b0ddfda0c1d",
      "cell_type": "code",
      "source": "age = 22\ninfo = f\"My name is Rudra Rana and my age is {age} years.\"\nprint(info)",
      "metadata": {
        "trusted": true
      },
      "outputs": [
        {
          "name": "stdout",
          "output_type": "stream",
          "text": "My name is Rudra Rana and my age is 22 years.\n"
        }
      ],
      "execution_count": 32
    },
    {
      "id": "018c572e-53a2-48c9-95b0-564fd257028a",
      "cell_type": "code",
      "source": "print(\"I would like to specify \\\"double-quotes\\\".\")",
      "metadata": {
        "trusted": true
      },
      "outputs": [
        {
          "name": "stdout",
          "output_type": "stream",
          "text": "I would like to specify \"double-quotes\".\n"
        }
      ],
      "execution_count": 34
    }
  ]
}