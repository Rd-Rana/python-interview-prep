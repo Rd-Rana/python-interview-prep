{
  "metadata": {
    "kernelspec": {
      "name": "python",
      "display_name": "Python (Pyodide)",
      "language": "python"
    },
    "language_info": {
      "codemirror_mode": {
        "name": "python",
        "version": 3
      },
      "file_extension": ".py",
      "mimetype": "text/x-python",
      "name": "python",
      "nbconvert_exporter": "python",
      "pygments_lexer": "ipython3",
      "version": "3.8"
    }
  },
  "nbformat_minor": 5,
  "nbformat": 4,
  "cells": [
    {
      "id": "d8ff9683-3361-4953-8a69-185b1cbf029f",
      "cell_type": "code",
      "source": "myTuple = (1, 2, 3, 4)\nprint(myTuple)",
      "metadata": {
        "trusted": true
      },
      "outputs": [
        {
          "name": "stdout",
          "output_type": "stream",
          "text": "(1, 2, 3, 4)\n"
        }
      ],
      "execution_count": 1
    },
    {
      "id": "33fbc0a1-eb4a-4215-99a5-051a6c18dfdb",
      "cell_type": "code",
      "source": "print(len(myTuple))",
      "metadata": {
        "trusted": true
      },
      "outputs": [
        {
          "name": "stdout",
          "output_type": "stream",
          "text": "4\n"
        }
      ],
      "execution_count": 2
    },
    {
      "id": "09ff0370-2462-465a-a9a1-e94040098e5d",
      "cell_type": "code",
      "source": "nameTuple1 = (\"Rudra\",)\nprint(nameTuple1)\nprint(type(nameTuple1))\n\nnameTuple2 = (\"Rudra\") # actually not a tuple\nprint(nameTuple2)\nprint(type(nameTuple2))",
      "metadata": {
        "trusted": true
      },
      "outputs": [
        {
          "name": "stdout",
          "output_type": "stream",
          "text": "('Rudra',)\n<class 'tuple'>\nRudra\n<class 'str'>\n"
        }
      ],
      "execution_count": 4
    },
    {
      "id": "e89d93d3-e942-43e8-a8de-60174e321b2f",
      "cell_type": "code",
      "source": "myTuple2 = tuple((\"rudra\", \"hinal\", \"zarna\", \"daxesh\"))\nprint(myTuple2)",
      "metadata": {
        "trusted": true
      },
      "outputs": [
        {
          "name": "stdout",
          "output_type": "stream",
          "text": "('rudra', 'hinal', 'zarna', 'daxesh')\n"
        }
      ],
      "execution_count": 28
    },
    {
      "id": "de3fdfcd-ffb3-4015-aab0-db2edf895d80",
      "cell_type": "code",
      "source": "print(myTuple2[3])",
      "metadata": {
        "trusted": true
      },
      "outputs": [
        {
          "name": "stdout",
          "output_type": "stream",
          "text": "daxesh\n"
        }
      ],
      "execution_count": 8
    },
    {
      "id": "18b95e75-d6e3-496b-803b-a083506553db",
      "cell_type": "code",
      "source": "listFromTuple = list(myTuple2)\nlistFromTuple.append(\"rana\")\nprint(listFromTuple)\nmyTuple2 = tuple(listFromTuple)\nprint(myTuple2)",
      "metadata": {
        "trusted": true
      },
      "outputs": [
        {
          "name": "stdout",
          "output_type": "stream",
          "text": "['rudra', 'hinal', 'zarna', 'daxesh', 'rana']\n('rudra', 'hinal', 'zarna', 'daxesh', 'rana')\n"
        }
      ],
      "execution_count": 9
    },
    {
      "id": "3fac69e3-95af-4804-b659-6f41be3fe066",
      "cell_type": "code",
      "source": "myTuple2 += nameTuple1\nprint(myTuple2)",
      "metadata": {
        "trusted": true
      },
      "outputs": [
        {
          "name": "stdout",
          "output_type": "stream",
          "text": "('rudra', 'hinal', 'daxesh', 'rana', 'Rudra')\n"
        }
      ],
      "execution_count": 22
    },
    {
      "id": "c9722343-9b7e-4e71-bcc3-e277b3e798ae",
      "cell_type": "code",
      "source": "listFromTuple = list(myTuple2)\nprint(listFromTuple)\nlistFromTuple.remove(\"Rudra\")\nprint(listFromTuple)\n\nmyTuple2 = tuple(listFromTuple)\nprint(myTuple2)",
      "metadata": {
        "trusted": true
      },
      "outputs": [
        {
          "name": "stdout",
          "output_type": "stream",
          "text": "['rudra', 'hinal', 'daxesh', 'rana', 'Rudra']\n['rudra', 'hinal', 'daxesh', 'rana']\n('rudra', 'hinal', 'daxesh', 'rana')\n"
        }
      ],
      "execution_count": 23
    },
    {
      "id": "0eb551f9-08f2-4ad1-af54-10f9b8c3a3c5",
      "cell_type": "code",
      "source": "del myTuple2",
      "metadata": {
        "trusted": true
      },
      "outputs": [],
      "execution_count": 24
    },
    {
      "id": "0b1c096d-404a-491b-b35f-977ef1a64bde",
      "cell_type": "code",
      "source": "num1, num2, num3, num4 = myTuple\nprint(num1, num2, num3, num4)",
      "metadata": {
        "trusted": true
      },
      "outputs": [
        {
          "name": "stdout",
          "output_type": "stream",
          "text": "1 2 3 4\n"
        }
      ],
      "execution_count": 29
    },
    {
      "id": "14da0c5b-a18d-49a5-9b3c-8aa0990132e1",
      "cell_type": "code",
      "source": "bro, sis, *otherNames = myTuple2\nprint(bro, sis)\nprint(otherNames)",
      "metadata": {
        "trusted": true
      },
      "outputs": [
        {
          "name": "stdout",
          "output_type": "stream",
          "text": "rudra hinal\n['zarna', 'daxesh']\n"
        }
      ],
      "execution_count": 30
    },
    {
      "id": "5c859469-c8af-48e6-825f-32bc17e608dd",
      "cell_type": "code",
      "source": "son, *female, mother, father = myTuple2\nprint(son)\nprint(female)\nprint(mother)\nprint(father)",
      "metadata": {
        "trusted": true
      },
      "outputs": [
        {
          "name": "stdout",
          "output_type": "stream",
          "text": "rudra\n['hinal']\nzarna\ndaxesh\n"
        }
      ],
      "execution_count": 32
    },
    {
      "id": "01e96bdd-43b9-4dfb-a372-da782040b760",
      "cell_type": "code",
      "source": "t = myTuple2 * 2\nprint(t)",
      "metadata": {
        "trusted": true
      },
      "outputs": [
        {
          "name": "stdout",
          "output_type": "stream",
          "text": "('rudra', 'hinal', 'zarna', 'daxesh', 'rudra', 'hinal', 'zarna', 'daxesh')\n"
        }
      ],
      "execution_count": 33
    }
  ]
}