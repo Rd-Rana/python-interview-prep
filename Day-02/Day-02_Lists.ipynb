{
  "metadata": {
    "kernelspec": {
      "name": "python",
      "display_name": "Python (Pyodide)",
      "language": "python"
    },
    "language_info": {
      "codemirror_mode": {
        "name": "python",
        "version": 3
      },
      "file_extension": ".py",
      "mimetype": "text/x-python",
      "name": "python",
      "nbconvert_exporter": "python",
      "pygments_lexer": "ipython3",
      "version": "3.8"
    }
  },
  "nbformat_minor": 5,
  "nbformat": 4,
  "cells": [
    {
      "id": "549d19e4-46a2-43c6-97d9-95bc6a6c7cd3",
      "cell_type": "code",
      "source": "firstList = [ \"batsman\", \"bowler\", \"wicketkeeper\" ]\nprint(firstList)",
      "metadata": {
        "trusted": true
      },
      "outputs": [
        {
          "name": "stdout",
          "output_type": "stream",
          "text": "['batsman', 'bowler', 'wicketkeeper']\n"
        }
      ],
      "execution_count": 4
    },
    {
      "id": "5765cc98-9c3e-4f18-9064-5e2816f45022",
      "cell_type": "code",
      "source": "print(len(firstList))",
      "metadata": {
        "trusted": true
      },
      "outputs": [
        {
          "name": "stdout",
          "output_type": "stream",
          "text": "3\n"
        }
      ],
      "execution_count": 5
    },
    {
      "id": "f87fa0fd-7d0b-4143-9d2a-76eb328f3a75",
      "cell_type": "code",
      "source": "print(type(firstList))",
      "metadata": {
        "trusted": true
      },
      "outputs": [
        {
          "name": "stdout",
          "output_type": "stream",
          "text": "<class 'list'>\n"
        }
      ],
      "execution_count": 6
    },
    {
      "id": "167dd60b-bea6-495d-9902-adc7d9dcda84",
      "cell_type": "code",
      "source": "cricketThings = list((\"bat\", \"ball\", \"stumps\"))\nprint(cricketThings)\nprint(cricketThings[1])\nprint(cricketThings[-1])",
      "metadata": {
        "trusted": true
      },
      "outputs": [
        {
          "name": "stdout",
          "output_type": "stream",
          "text": "['bat', 'ball', 'stumps']\nball\nstumps\n"
        }
      ],
      "execution_count": 11
    },
    {
      "id": "273f1a9c-a12b-45f1-af96-b2394b72cc70",
      "cell_type": "code",
      "source": "numbers = [1,2,3,4,5,6,7,8]\nprint(numbers[3:7])",
      "metadata": {
        "trusted": true
      },
      "outputs": [
        {
          "name": "stdout",
          "output_type": "stream",
          "text": "[4, 5, 6, 7]\n"
        }
      ],
      "execution_count": 17
    },
    {
      "id": "55eadbda-3baa-43f3-8831-a4eceef16384",
      "cell_type": "code",
      "source": "print(numbers[:5])",
      "metadata": {
        "trusted": true
      },
      "outputs": [
        {
          "name": "stdout",
          "output_type": "stream",
          "text": "[1, 2, 3, 4, 5]\n"
        }
      ],
      "execution_count": 18
    },
    {
      "id": "b7b98c68-66fd-496e-a733-c3240d1ea52d",
      "cell_type": "code",
      "source": "print(numbers[3:])",
      "metadata": {
        "trusted": true
      },
      "outputs": [
        {
          "name": "stdout",
          "output_type": "stream",
          "text": "[4, 5, 6, 7, 8]\n"
        }
      ],
      "execution_count": 20
    },
    {
      "id": "dfce9242-0acb-4cc0-a1b3-55a9d735477d",
      "cell_type": "code",
      "source": "print(numbers[-5:-2])",
      "metadata": {
        "trusted": true
      },
      "outputs": [
        {
          "name": "stdout",
          "output_type": "stream",
          "text": "[4, 5, 6]\n"
        }
      ],
      "execution_count": 23
    },
    {
      "id": "9cf0c3a9-b9a1-45c3-82b4-1f8b07dbb775",
      "cell_type": "code",
      "source": "print(6 in numbers)",
      "metadata": {
        "trusted": true
      },
      "outputs": [
        {
          "name": "stdout",
          "output_type": "stream",
          "text": "True\n"
        }
      ],
      "execution_count": 25
    },
    {
      "id": "2861ff5b-d967-451a-aef1-479c5000df93",
      "cell_type": "code",
      "source": "numbers[1] = 1\nprint(numbers)",
      "metadata": {
        "trusted": true
      },
      "outputs": [
        {
          "name": "stdout",
          "output_type": "stream",
          "text": "[1, 1, 3, 4, 5, 6, 7, 8]\n"
        }
      ],
      "execution_count": 26
    },
    {
      "id": "25f8d762-6197-48fd-a4f0-dde25da0786e",
      "cell_type": "code",
      "source": "numbers[1:5] = [2, 3, 4, 5]\nprint(numbers)",
      "metadata": {
        "trusted": true
      },
      "outputs": [
        {
          "name": "stdout",
          "output_type": "stream",
          "text": "[1, 2, 3, 4, 5, 6, 7, 8]\n"
        }
      ],
      "execution_count": 27
    },
    {
      "id": "bea6c02b-cc62-48dd-b11a-c7cc422a3d28",
      "cell_type": "code",
      "source": "numbers[1:3] = [2, 3, 4]\nprint(numbers)",
      "metadata": {
        "trusted": true
      },
      "outputs": [
        {
          "name": "stdout",
          "output_type": "stream",
          "text": "[1, 2, 3, 4, 4, 5, 6, 7, 8]\n"
        }
      ],
      "execution_count": 28
    },
    {
      "id": "281ee7cc-c5c1-450b-8b51-d701e53550bb",
      "cell_type": "code",
      "source": "numbers[1:5] = [2, 3, 4]\nprint(numbers)",
      "metadata": {
        "trusted": true
      },
      "outputs": [
        {
          "name": "stdout",
          "output_type": "stream",
          "text": "[1, 2, 3, 4, 5, 6, 7, 8]\n"
        }
      ],
      "execution_count": 29
    },
    {
      "id": "15538c01-56d0-4eec-8405-f81994316f30",
      "cell_type": "code",
      "source": "numbers.insert(8, 9)\nprint(numbers)",
      "metadata": {
        "trusted": true
      },
      "outputs": [
        {
          "name": "stdout",
          "output_type": "stream",
          "text": "[1, 2, 3, 4, 5, 6, 7, 8, 9]\n"
        }
      ],
      "execution_count": 31
    },
    {
      "id": "7b5ba5ee-f2d0-42f2-a836-703f54c1976f",
      "cell_type": "code",
      "source": "numbers.append(10)\nprint(numbers)",
      "metadata": {
        "trusted": true
      },
      "outputs": [
        {
          "name": "stdout",
          "output_type": "stream",
          "text": "[1, 2, 3, 4, 5, 6, 7, 8, 9, 10]\n"
        }
      ],
      "execution_count": 32
    },
    {
      "id": "bcd67e6d-1299-46ca-acc9-be5618799f85",
      "cell_type": "code",
      "source": "cricketThings.extend(firstList)\nprint(cricketThings)",
      "metadata": {
        "trusted": true
      },
      "outputs": [
        {
          "name": "stdout",
          "output_type": "stream",
          "text": "['bat', 'ball', 'stumps', 'batsman', 'bowler', 'wicketkeeper']\n"
        }
      ],
      "execution_count": 33
    },
    {
      "id": "c44b77d0-c73c-4fc0-83bc-cbf580cd4472",
      "cell_type": "code",
      "source": "cricketThings.extend((\"pads\", \"gloves\"))\nprint(cricketThings)",
      "metadata": {
        "trusted": true
      },
      "outputs": [
        {
          "name": "stdout",
          "output_type": "stream",
          "text": "['bat', 'ball', 'stumps', 'batsman', 'bowler', 'wicketkeeper', 'pads', 'gloves']\n"
        }
      ],
      "execution_count": 38
    },
    {
      "id": "9d332921-8217-4a88-b541-05cd1df5c130",
      "cell_type": "code",
      "source": "cricketThings.remove(\"pads\")\nprint(cricketThings)",
      "metadata": {
        "trusted": true
      },
      "outputs": [
        {
          "name": "stdout",
          "output_type": "stream",
          "text": "['bat', 'ball', 'stumps', 'batsman', 'bowler', 'wicketkeeper', 'gloves']\n"
        }
      ],
      "execution_count": 39
    },
    {
      "id": "df9c380f-d1e6-4bc8-a3cf-df2310214189",
      "cell_type": "code",
      "source": "cricketThings.pop(2)\nprint(cricketThings)",
      "metadata": {
        "trusted": true
      },
      "outputs": [
        {
          "name": "stdout",
          "output_type": "stream",
          "text": "['bat', 'ball', 'batsman', 'bowler', 'wicketkeeper', 'gloves']\n"
        }
      ],
      "execution_count": 40
    },
    {
      "id": "0abdd209-4470-427f-b498-82c398527d3d",
      "cell_type": "code",
      "source": "cricketThings.pop()\nprint(cricketThings)",
      "metadata": {
        "trusted": true
      },
      "outputs": [
        {
          "name": "stdout",
          "output_type": "stream",
          "text": "['bat', 'ball', 'batsman', 'bowler', 'wicketkeeper']\n"
        }
      ],
      "execution_count": 41
    },
    {
      "id": "d8ac4e98-d719-4cf5-bf6c-560bbcd10984",
      "cell_type": "code",
      "source": "del cricketThings[4]\nprint(cricketThings)",
      "metadata": {
        "trusted": true
      },
      "outputs": [
        {
          "name": "stdout",
          "output_type": "stream",
          "text": "['bat', 'ball', 'batsman', 'bowler']\n"
        }
      ],
      "execution_count": 43
    },
    {
      "id": "0237ab1c-6655-48bd-8c46-1b7d7253d504",
      "cell_type": "code",
      "source": "lst = [1, 2, 3, 4]\nprint(lst)\ndel lst",
      "metadata": {
        "trusted": true
      },
      "outputs": [
        {
          "name": "stdout",
          "output_type": "stream",
          "text": "[1, 2, 3, 4]\n"
        }
      ],
      "execution_count": 48
    },
    {
      "id": "894289cf-cb79-41d9-b37f-90d3d0568b2a",
      "cell_type": "code",
      "source": "print(firstList)\nfirstList.clear()\nprint(firstList)",
      "metadata": {
        "trusted": true
      },
      "outputs": [
        {
          "name": "stdout",
          "output_type": "stream",
          "text": "['batsman', 'bowler', 'wicketkeeper']\n[]\n"
        }
      ],
      "execution_count": 49
    },
    {
      "id": "1ab7273b-8a10-4769-b097-76a005ab61e7",
      "cell_type": "code",
      "source": "for i in range(len(numbers)):\n    print(numbers[i], end=\" \")",
      "metadata": {
        "trusted": true
      },
      "outputs": [
        {
          "name": "stdout",
          "output_type": "stream",
          "text": "1 2 3 4 5 6 7 8 9 10 "
        }
      ],
      "execution_count": 51
    },
    {
      "id": "a561393e-9ffc-4f0d-a9bf-3b2126fe11b6",
      "cell_type": "code",
      "source": "[print(num, end=\" \") for num in numbers]",
      "metadata": {
        "trusted": true
      },
      "outputs": [
        {
          "name": "stdout",
          "output_type": "stream",
          "text": "1 2 3 4 5 6 7 8 9 10 "
        },
        {
          "execution_count": 54,
          "output_type": "execute_result",
          "data": {
            "text/plain": "[None, None, None, None, None, None, None, None, None, None]"
          },
          "metadata": {}
        }
      ],
      "execution_count": 54
    },
    {
      "id": "0a5fb773-8d12-4376-8599-d2312abe70e5",
      "cell_type": "code",
      "source": "evenNumbers = [ num for num in numbers if num % 2 == 0 ]\nprint(evenNumbers)\nprint(type(evenNumbers))",
      "metadata": {
        "trusted": true
      },
      "outputs": [
        {
          "name": "stdout",
          "output_type": "stream",
          "text": "[2, 4, 6, 8, 10]\n<class 'list'>\n"
        }
      ],
      "execution_count": 56
    },
    {
      "id": "485e729e-970d-42a2-87b7-c3d6f7840317",
      "cell_type": "code",
      "source": "multiplesOfThreeElseZero = [ num if num % 3 == 0 else 0 for num in numbers ]\nprint(multiplesOfThreeElseZero)",
      "metadata": {
        "trusted": true
      },
      "outputs": [
        {
          "name": "stdout",
          "output_type": "stream",
          "text": "[0, 0, 3, 0, 0, 6, 0, 0, 9, 0]\n"
        }
      ],
      "execution_count": 57
    },
    {
      "id": "c8c5e9f4-11c6-4ca0-bb77-d47f7aef8ef5",
      "cell_type": "code",
      "source": "nums = [100, 50, 65, 82, 23]\nnums.sort()\nprint(nums)",
      "metadata": {
        "trusted": true
      },
      "outputs": [
        {
          "name": "stdout",
          "output_type": "stream",
          "text": "[23, 50, 65, 82, 100]\n"
        }
      ],
      "execution_count": 58
    },
    {
      "id": "ce4115d3-180c-42df-baf6-56413e297a4d",
      "cell_type": "code",
      "source": "nums = [100, 50, 65, 82, 23]\nnums.sort(reverse=True)\nprint(nums)",
      "metadata": {
        "trusted": true
      },
      "outputs": [
        {
          "name": "stdout",
          "output_type": "stream",
          "text": "[100, 82, 65, 50, 23]\n"
        }
      ],
      "execution_count": 59
    },
    {
      "id": "145c25ae-d46d-47c3-a66d-bdb7ffa8d3e9",
      "cell_type": "code",
      "source": "nums.reverse()\nprint(nums)",
      "metadata": {
        "trusted": true
      },
      "outputs": [
        {
          "name": "stdout",
          "output_type": "stream",
          "text": "[23, 50, 65, 82, 100]\n"
        }
      ],
      "execution_count": 71
    },
    {
      "id": "05058d5f-52ac-4968-bc43-412e322728ec",
      "cell_type": "code",
      "source": "newNums = nums.copy()\nprint(newNums)",
      "metadata": {
        "trusted": true
      },
      "outputs": [
        {
          "name": "stdout",
          "output_type": "stream",
          "text": "[23, 50, 65, 82, 100]\n"
        }
      ],
      "execution_count": 72
    },
    {
      "id": "ed47e450-5509-4a11-8df8-4ed2d00b87bf",
      "cell_type": "code",
      "source": "nums2 = list(nums)\nprint(nums2)",
      "metadata": {
        "trusted": true
      },
      "outputs": [
        {
          "name": "stdout",
          "output_type": "stream",
          "text": "[23, 50, 65, 82, 100]\n"
        }
      ],
      "execution_count": 74
    },
    {
      "id": "4fb2361e-e135-490b-8167-f407be4623b6",
      "cell_type": "code",
      "source": "nums3 = newNums + nums2\nprint(nums3)",
      "metadata": {
        "trusted": true
      },
      "outputs": [
        {
          "name": "stdout",
          "output_type": "stream",
          "text": "[23, 50, 65, 82, 100, 23, 50, 65, 82, 100]\n"
        }
      ],
      "execution_count": 75
    }
  ]
}